{
 "cells": [
  {
   "cell_type": "markdown",
   "metadata": {},
   "source": [
    "# Linear Maps (Chapter 3)\n",
    "\n",
    "**Definition**: A **linear map** from ${V}$ to ${W}$ is a function ${T: V\\rightarrow W}$ such that:\n",
    "\n",
    "- ${T(u+v) = Tu + Tv,\\, \\forall u,v\\in V}$ (additivity)\n",
    "- ${T(kv) = kT(v),\\, \\forall v \\in V,\\, \\forall k \\in F}$ where ${F}$ is either ${R}$ or ${C}$ (homogeneity)\n",
    "\n",
    "The set of all linear maps from ${V}$ to ${W}$ is denotes as ${L(V,W)}$.\n",
    "\n",
    "#### Examples of Linear Maps\n",
    "1. zero - This linear map maps every vector in ${V}$ to null vector of ${W}$.\n",
    "2. Identity map - This linear map maps each vector onto itself and is denoted by ${I}$. ${I\\in L(V,V)}$\n",
    "3. The basic rules of differentiation i.e ${(f+g)' = f' + g' \\, and \\,(\\lambda f)' = \\lambda(f)'}$ allow the differentiation function to be a linear map denoted by ${D}$. ${D\\in L(P(R), P(R))}$\n",
    "\n",
    "![](images/lm.JPG)"
   ]
  },
  {
   "attachments": {},
   "cell_type": "markdown",
   "metadata": {},
   "source": [
    "**Theorem**: Suppose ${v_{1}, v_{2},...,v_{n}}$ are basis of ${V}$, and ${w_{1}, w_{2},...,w_{n}}$ are values in ${W}$, then there exists a unique linear map ${T: V \\rightarrow W}$ such that ${Tv_{j} = w_{j}\\,for j = 1,...,n}$.\n",
    "\n",
    "This means that we can find a linear map that takes on whatever values on the basis of a vector space.\n",
    "\n",
    "![](images/proof.JPG)"
   ]
  },
  {
   "attachments": {},
   "cell_type": "markdown",
   "metadata": {},
   "source": [
    "## Algebraic operations on Linear Maps\n",
    "\n",
    "**Definition**: Suppose ${S,T\\in L(V,W)}$ and ${\\lambda\\in F}$ then the sum ${S+T}$ and product ${\\lambda T}$ are linear maps from ${V\\rightarrow W}$ defined by ${(S+T)v = S(v)+T(v)}$ and ${(\\lambda T)v = \\lambda(Tv), \\forall v\\in V}$ \n",
    "\n",
    "**Verification**: \n",
    "- ${(S+T)(u+v) = S(u+v) + T(u+v) = S(u) + T(u) + S(v) + T(v)= (S+T)(u) + (S+T)(v)}$. ${\\therefore(S+T)}$ is additive\n",
    "- ${(S+T)(\\lambda u) = S(\\lambda u) + T(\\lambda u) = \\lambda S(u) + \\lambda T(u)= \\lambda(S(u)+T(u)) = \\lambda(S+T)(u)}$. ${\\therefore (S+T)}$ is homogenous. Thus ${(S+T)}$ is indeed a linear map.\n",
    "\n",
    "The above definition implies that ${L(V,W)}$ is a vector space whose vectors are linear maps from ${V\\rightarrow W}$.\n",
    "\n",
    "### Products of linear maps\n",
    "\n",
    "**Definition**: If ${T\\in L(U,V)}$ and ${S\\in L(V,W)}$ then ${ST\\in L(U,W)}$ and is defined as ${ST(u) = S(Tu) \\forall u\\in U}$.\n",
    "\n",
    "**Verification**:\n",
    "- ${ST(u+v) = S(T(u+v))= S(T(u)+ T(v))= S(Tu) + S(Tv) = ST(u) + ST(v)}$.(additive)\n",
    "- ${ST(\\lambda u) = S(T(\\lambda u))= S(\\lambda T(u))= \\lambda S(Tu) = \\lambda ST(u)}$. (homogenous)\n",
    "\n",
    "Linear maps are associative and distributive i.e ${(T_{1}T_{2})T_{3}= T_{1}(T_{2}T_{3})}$ and ${S(T_{1}+T_{2})= S(T_{1})+S(T_{2})}$.\n",
    "\n",
    "**Theorem**: Linear map ${L: V\\rightarrow W}$ map the null vector of ${V}$ to null vector of ${W}$.\n",
    "\n",
    "**Proof**: ${T(0) = T(0+0) = T(0)+T(0) \\implies T(0) = 0}$\n",
    "\n",
    "This theorem renders translation to not be a linear mapping."
   ]
  },
  {
   "cell_type": "markdown",
   "metadata": {},
   "source": [
    "## Null Spaces and Ranges\n",
    "\n",
    "**Definition**: If ${\\exists S\\in L(V,W)}$, then null space of ${S}$ is subspace of ${V}$ which consists of all the vectors of ${V}$ that ${S}$ maps to null vector of ${W}$. Range of ${S}$ is a subspace of ${W}$ which consists of all the vectors that have the form ${Sv, \\forall v \\in V}$.\n",
    "\n",
    "${null S = \\{v\\in V: Sv = 0\\}}$\n",
    "${range S = \\{Sv: v\\in V\\}}$\n",
    "\n",
    "**Verification that null S is a subspace**: \n",
    "- Suppose ${u,v\\in null S}$, then ${S(u+v) = S(u) + S(v) = 0+0 = 0, \\therefore (u+v)\\in null S}$.\n",
    "- Suppose ${u\\in null S, then S(\\lambda u) = \\lambda S(u) = \\lambda 0= 0, \\therefore \\lambda u \\in null S}$\n",
    "\n",
    "**Definition**: A linear map ${T: V\\rightarrow W}$ is injective if ${T(u) = T(v) \\implies u=v}$. In other words a linear map is injective if it doesn't map two or more different vectors on a single vector.\n",
    "\n",
    "To check the injectivity of a subspace we just need to check it's null space. If it's null space has more than 1 vector then, it's not injective obviously. If it's null space has one vector then that vector is ${0}$ (previous theorem). \n",
    "${\\therefore if\\, T(u) = T(v) \\implies T(u)-T(v) = 0\\implies T(u-v)=0 \\implies u-v = 0 \\implies u=v\\implies T\\, is\\, injective}$.\n",
    "\n",
    "**Verification that range S is a subspace**:\n",
    "- Suppose ${u,v\\in range S}$ then ${Sp = u \\,and\\, Sq = v \\,for\\, some\\, p,q\\in V,\\, then\\, (p+q) \\in V. S(p+q) = S(p)+S(q) = u+v \\therefore (u+v)\\in range S}$.\n",
    "- Suppose ${u\\in range S, \\,then \\,S(p) = u \\,for\\, some \\,p\\in V. S(\\lambda p) = \\lambda S(p)= \\lambda u, \\therefore \\lambda u \\in range S}$\n",
    "\n",
    "**Definition**: A linear map is called surjective if it's range is equal to vector space that it maps to. If ${S\\in L(V,W)}$ then ${S}$ is surjective if ${range S = W}$\n",
    "\n",
    "## The Fundamental Theorem of Linear Maps\n",
    "\n",
    "**Theorem** Suppose ${T\\in L(V,W)}$ then ${dim V = dim \\, null T + dim\\, range T}$\n",
    "\n",
    "**Proof**:\n",
    "Let's say ${dim \\,null\\, T = m}$, then ${u_{1}, u_{2},...,u_{m}}$ is basis of null T. Let's add n vectors so that "
   ]
  },
  {
   "cell_type": "code",
   "execution_count": null,
   "metadata": {},
   "outputs": [],
   "source": []
  }
 ],
 "metadata": {
  "kernelspec": {
   "display_name": "Python 3",
   "language": "python",
   "name": "python3"
  },
  "language_info": {
   "codemirror_mode": {
    "name": "ipython",
    "version": 3
   },
   "file_extension": ".py",
   "mimetype": "text/x-python",
   "name": "python",
   "nbconvert_exporter": "python",
   "pygments_lexer": "ipython3",
   "version": "3.7.7"
  }
 },
 "nbformat": 4,
 "nbformat_minor": 4
}
